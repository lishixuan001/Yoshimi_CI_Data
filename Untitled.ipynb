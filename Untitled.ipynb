{
 "cells": [
  {
   "cell_type": "code",
   "execution_count": 2,
   "metadata": {
    "collapsed": true
   },
   "outputs": [],
   "source": [
    "import pandas as pd\n",
    "import numpy as np"
   ]
  },
  {
   "cell_type": "code",
   "execution_count": 39,
   "metadata": {
    "collapsed": true
   },
   "outputs": [],
   "source": [
    "file_name = \"0506_sy_lm_model_coef.csv\""
   ]
  },
  {
   "cell_type": "code",
   "execution_count": 40,
   "metadata": {
    "collapsed": false
   },
   "outputs": [],
   "source": [
    "df = pd.read_csv(file_name)"
   ]
  },
  {
   "cell_type": "code",
   "execution_count": 41,
   "metadata": {
    "collapsed": false
   },
   "outputs": [],
   "source": [
    "data = []\n",
    "for i in range(df.shape[0]):\n",
    "    line = df.iloc[i]\n",
    "    name = line[\"Unnamed: 0\"]\n",
    "    estm = round(float(line[\"Estimate\"]), 3)\n",
    "    lb = round(float(line['LB']), 3)\n",
    "    ub = round(float(line['UB']), 3)\n",
    "    dataline = [f\"{estm} ({lb}~{ub})\",]\n",
    "    data.append(dataline)\n",
    "form = pd.DataFrame(data, index=None)"
   ]
  },
  {
   "cell_type": "code",
   "execution_count": 42,
   "metadata": {
    "collapsed": false
   },
   "outputs": [
    {
     "data": {
      "text/html": [
       "<div>\n",
       "<style>\n",
       "    .dataframe thead tr:only-child th {\n",
       "        text-align: right;\n",
       "    }\n",
       "\n",
       "    .dataframe thead th {\n",
       "        text-align: left;\n",
       "    }\n",
       "\n",
       "    .dataframe tbody tr th {\n",
       "        vertical-align: top;\n",
       "    }\n",
       "</style>\n",
       "<table border=\"1\" class=\"dataframe\">\n",
       "  <thead>\n",
       "    <tr style=\"text-align: right;\">\n",
       "      <th></th>\n",
       "      <th>0</th>\n",
       "    </tr>\n",
       "  </thead>\n",
       "  <tbody>\n",
       "    <tr>\n",
       "      <th>0</th>\n",
       "      <td>99.799 (64.616~134.982)</td>\n",
       "    </tr>\n",
       "    <tr>\n",
       "      <th>1</th>\n",
       "      <td>-0.03 (-4.059~3.999)</td>\n",
       "    </tr>\n",
       "    <tr>\n",
       "      <th>2</th>\n",
       "      <td>2.258 (-1.75~6.265)</td>\n",
       "    </tr>\n",
       "    <tr>\n",
       "      <th>3</th>\n",
       "      <td>1.944 (-2.108~5.995)</td>\n",
       "    </tr>\n",
       "    <tr>\n",
       "      <th>4</th>\n",
       "      <td>5.516 (1.489~9.544)</td>\n",
       "    </tr>\n",
       "    <tr>\n",
       "      <th>5</th>\n",
       "      <td>7.696 (3.662~11.729)</td>\n",
       "    </tr>\n",
       "    <tr>\n",
       "      <th>6</th>\n",
       "      <td>9.795 (5.715~13.875)</td>\n",
       "    </tr>\n",
       "    <tr>\n",
       "      <th>7</th>\n",
       "      <td>15.316 (11.084~19.547)</td>\n",
       "    </tr>\n",
       "    <tr>\n",
       "      <th>8</th>\n",
       "      <td>19.639 (15.522~23.756)</td>\n",
       "    </tr>\n",
       "    <tr>\n",
       "      <th>9</th>\n",
       "      <td>24.264 (20.139~28.388)</td>\n",
       "    </tr>\n",
       "    <tr>\n",
       "      <th>10</th>\n",
       "      <td>24.184 (19.855~28.513)</td>\n",
       "    </tr>\n",
       "    <tr>\n",
       "      <th>11</th>\n",
       "      <td>29.753 (25.229~34.277)</td>\n",
       "    </tr>\n",
       "    <tr>\n",
       "      <th>12</th>\n",
       "      <td>32.228 (27.698~36.759)</td>\n",
       "    </tr>\n",
       "    <tr>\n",
       "      <th>13</th>\n",
       "      <td>38.49 (33.626~43.355)</td>\n",
       "    </tr>\n",
       "    <tr>\n",
       "      <th>14</th>\n",
       "      <td>2.912 (-31.636~37.459)</td>\n",
       "    </tr>\n",
       "    <tr>\n",
       "      <th>15</th>\n",
       "      <td>0.141 (-34.692~34.974)</td>\n",
       "    </tr>\n",
       "    <tr>\n",
       "      <th>16</th>\n",
       "      <td>-1.088 (-35.572~33.395)</td>\n",
       "    </tr>\n",
       "    <tr>\n",
       "      <th>17</th>\n",
       "      <td>0.482 (0.371~0.592)</td>\n",
       "    </tr>\n",
       "    <tr>\n",
       "      <th>18</th>\n",
       "      <td>3.144 (0.999~5.29)</td>\n",
       "    </tr>\n",
       "    <tr>\n",
       "      <th>19</th>\n",
       "      <td>2.596 (0.957~4.235)</td>\n",
       "    </tr>\n",
       "    <tr>\n",
       "      <th>20</th>\n",
       "      <td>-0.858 (-4.966~3.25)</td>\n",
       "    </tr>\n",
       "    <tr>\n",
       "      <th>21</th>\n",
       "      <td>0.676 (-2.09~3.442)</td>\n",
       "    </tr>\n",
       "    <tr>\n",
       "      <th>22</th>\n",
       "      <td>5.918 (3.157~8.678)</td>\n",
       "    </tr>\n",
       "    <tr>\n",
       "      <th>23</th>\n",
       "      <td>1.014 (-1.588~3.616)</td>\n",
       "    </tr>\n",
       "    <tr>\n",
       "      <th>24</th>\n",
       "      <td>0.325 (-4.525~5.175)</td>\n",
       "    </tr>\n",
       "    <tr>\n",
       "      <th>25</th>\n",
       "      <td>-0.059 (-4.323~4.205)</td>\n",
       "    </tr>\n",
       "    <tr>\n",
       "      <th>26</th>\n",
       "      <td>0.255 (-2.581~3.09)</td>\n",
       "    </tr>\n",
       "    <tr>\n",
       "      <th>27</th>\n",
       "      <td>-0.85 (-3.492~1.791)</td>\n",
       "    </tr>\n",
       "    <tr>\n",
       "      <th>28</th>\n",
       "      <td>-1.227 (-3.924~1.47)</td>\n",
       "    </tr>\n",
       "    <tr>\n",
       "      <th>29</th>\n",
       "      <td>-2.767 (-5.67~0.135)</td>\n",
       "    </tr>\n",
       "    <tr>\n",
       "      <th>30</th>\n",
       "      <td>-15.72 (-50.196~18.756)</td>\n",
       "    </tr>\n",
       "    <tr>\n",
       "      <th>31</th>\n",
       "      <td>-0.661 (-5.387~4.064)</td>\n",
       "    </tr>\n",
       "    <tr>\n",
       "      <th>32</th>\n",
       "      <td>2.3 (0.908~3.692)</td>\n",
       "    </tr>\n",
       "    <tr>\n",
       "      <th>33</th>\n",
       "      <td>-10.933 (-20.595~-1.272)</td>\n",
       "    </tr>\n",
       "    <tr>\n",
       "      <th>34</th>\n",
       "      <td>0.002 (-0.004~0.008)</td>\n",
       "    </tr>\n",
       "  </tbody>\n",
       "</table>\n",
       "</div>"
      ],
      "text/plain": [
       "                           0\n",
       "0    99.799 (64.616~134.982)\n",
       "1       -0.03 (-4.059~3.999)\n",
       "2        2.258 (-1.75~6.265)\n",
       "3       1.944 (-2.108~5.995)\n",
       "4        5.516 (1.489~9.544)\n",
       "5       7.696 (3.662~11.729)\n",
       "6       9.795 (5.715~13.875)\n",
       "7     15.316 (11.084~19.547)\n",
       "8     19.639 (15.522~23.756)\n",
       "9     24.264 (20.139~28.388)\n",
       "10    24.184 (19.855~28.513)\n",
       "11    29.753 (25.229~34.277)\n",
       "12    32.228 (27.698~36.759)\n",
       "13     38.49 (33.626~43.355)\n",
       "14    2.912 (-31.636~37.459)\n",
       "15    0.141 (-34.692~34.974)\n",
       "16   -1.088 (-35.572~33.395)\n",
       "17       0.482 (0.371~0.592)\n",
       "18        3.144 (0.999~5.29)\n",
       "19       2.596 (0.957~4.235)\n",
       "20      -0.858 (-4.966~3.25)\n",
       "21       0.676 (-2.09~3.442)\n",
       "22       5.918 (3.157~8.678)\n",
       "23      1.014 (-1.588~3.616)\n",
       "24      0.325 (-4.525~5.175)\n",
       "25     -0.059 (-4.323~4.205)\n",
       "26       0.255 (-2.581~3.09)\n",
       "27      -0.85 (-3.492~1.791)\n",
       "28      -1.227 (-3.924~1.47)\n",
       "29      -2.767 (-5.67~0.135)\n",
       "30   -15.72 (-50.196~18.756)\n",
       "31     -0.661 (-5.387~4.064)\n",
       "32         2.3 (0.908~3.692)\n",
       "33  -10.933 (-20.595~-1.272)\n",
       "34      0.002 (-0.004~0.008)"
      ]
     },
     "execution_count": 42,
     "metadata": {},
     "output_type": "execute_result"
    }
   ],
   "source": [
    "form"
   ]
  },
  {
   "cell_type": "code",
   "execution_count": 43,
   "metadata": {
    "collapsed": false
   },
   "outputs": [
    {
     "data": {
      "text/plain": [
       "Index(['Unnamed: 0', 'Estimate', 'Std. Error', 't value', 'Pr(>|t|)', 'LB',\n",
       "       'UB'],\n",
       "      dtype='object')"
      ]
     },
     "execution_count": 43,
     "metadata": {},
     "output_type": "execute_result"
    }
   ],
   "source": [
    "df.columns"
   ]
  },
  {
   "cell_type": "code",
   "execution_count": null,
   "metadata": {
    "collapsed": true
   },
   "outputs": [],
   "source": []
  }
 ],
 "metadata": {
  "kernelspec": {
   "display_name": "Python 3",
   "language": "python",
   "name": "python3"
  },
  "language_info": {
   "codemirror_mode": {
    "name": "ipython",
    "version": 3
   },
   "file_extension": ".py",
   "mimetype": "text/x-python",
   "name": "python",
   "nbconvert_exporter": "python",
   "pygments_lexer": "ipython3",
   "version": "3.6.8"
  }
 },
 "nbformat": 4,
 "nbformat_minor": 0
}
