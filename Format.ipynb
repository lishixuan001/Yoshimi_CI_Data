{
 "cells": [
  {
   "cell_type": "code",
   "execution_count": 1,
   "metadata": {
    "collapsed": false
   },
   "outputs": [],
   "source": [
    "import pandas as pd\n",
    "import numpy as np\n",
    "\n",
    "from os import listdir\n",
    "from os.path import join\n",
    "from pdb import set_trace as st"
   ]
  },
  {
   "cell_type": "code",
   "execution_count": 81,
   "metadata": {
    "collapsed": true
   },
   "outputs": [],
   "source": [
    "data_type = \"0506\"\n",
    "base_dir = f\"./{data_type}/\""
   ]
  },
  {
   "cell_type": "code",
   "execution_count": 82,
   "metadata": {
    "collapsed": true
   },
   "outputs": [],
   "source": [
    "insertions = {\n",
    "    0: [\"Intercept\", \"\"],\n",
    "    1: [\"Age\", \"\"],\n",
    "    2: [\"Diabete\", \"\"],\n",
    "    5: [\"BMI\", \"\"],\n",
    "    6: [\"Smoke\", \"\"],\n",
    "    8: [\"Country\", \"\"],\n",
    "    10: [\"Race\", \"\"],\n",
    "    12: [\"Education\", \"\"],\n",
    "    14: [\"Gender\", \"\"],\n",
    "    15: [\"Activity\", \"\"]\n",
    "}"
   ]
  },
  {
   "cell_type": "code",
   "execution_count": null,
   "metadata": {
    "collapsed": true
   },
   "outputs": [],
   "source": []
  },
  {
   "cell_type": "code",
   "execution_count": 83,
   "metadata": {
    "collapsed": false
   },
   "outputs": [],
   "source": [
    "def collect_forms():\n",
    "    forms = []\n",
    "    for i, file_name in enumerate(listdir(base_dir)):\n",
    "        assert file_name.endswith(\"csv\")\n",
    "        \n",
    "        if not file_name.startswith(data_type): # Not include 0304_di_lm_model_coef.csv ones for merging\n",
    "            continue\n",
    "\n",
    "        df = pd.read_csv(join(base_dir, file_name))\n",
    "        \n",
    "        data = []\n",
    "        for i in range(df.shape[0]):\n",
    "            if i in insertions.keys():\n",
    "                data.append(insertions[i])\n",
    "            line = df.iloc[i]\n",
    "            name = line[\"Unnamed: 0\"]\n",
    "            estm = round(float(line[\"Estimate\"]), 3)\n",
    "            lb = round(float(line['LB']), 3)\n",
    "            ub = round(float(line['UB']), 3)\n",
    "            p_value = line['Pr(>|t|)']\n",
    "            if p_value <= 0.001:\n",
    "                sig = \"***\"\n",
    "            elif p_value <= 0.01:\n",
    "                sig = \"**\"\n",
    "            elif p_value <= 0.05:\n",
    "                sig = \"*\"\n",
    "            else:\n",
    "                sig=\"\"\n",
    "            dataline = [name, f\"{estm}{sig} ({lb}~{ub})\",]\n",
    "            data.append(dataline)\n",
    "\n",
    "        columns = [\"Variables\", file_name.split('log')[0][:-1]]\n",
    "        form = pd.DataFrame(data, index=None, columns=columns)\n",
    "        forms.append(form)\n",
    "        \n",
    "        form.to_csv(f\"./Result_{data_type}/{file_name}\", index=False)\n",
    "    return forms"
   ]
  },
  {
   "cell_type": "code",
   "execution_count": 84,
   "metadata": {
    "collapsed": false
   },
   "outputs": [],
   "source": [
    "forms = collect_forms()"
   ]
  },
  {
   "cell_type": "code",
   "execution_count": 85,
   "metadata": {
    "collapsed": false
   },
   "outputs": [
    {
     "data": {
      "text/plain": [
       "[                         Variables    0506_sy_lm_model_coef.cs\n",
       " 0                        Intercept                            \n",
       " 1                      (Intercept)  84.737*** (49.967~119.508)\n",
       " 2                              Age                            \n",
       " 3                              age      0.562*** (0.523~0.602)\n",
       " 4                          Diabete                            \n",
       " 5                  diabPre-diabete      6.455 (-27.747~40.658)\n",
       " 6                      diabdiabete      4.038 (-30.473~38.549)\n",
       " 7                      diabUnknown      2.461 (-31.678~36.601)\n",
       " 8                              BMI                            \n",
       " 9                              bmi        0.405*** (0.3~0.511)\n",
       " 10                           Smoke                            \n",
       " 11                      smokeSmoke        1.829 (-0.264~3.921)\n",
       " 12                    smokeUnknown       2.701*** (1.08~4.322)\n",
       " 13                         Country                            \n",
       " 14            countryUnited States        1.716 (-0.301~3.733)\n",
       " 15          raceNon-Hispanic Black       5.487** (1.263~9.712)\n",
       " 16                            Race                            \n",
       " 17                    raceHispanic        0.375 (-3.769~4.518)\n",
       " 18                       raceOther       -0.697 (-4.703~3.309)\n",
       " 19                       Education                            \n",
       " 20  educationmore than high school    -2.208** (-3.594~-0.821)\n",
       " 21        educationRefused/Missing    -12.979 (-47.206~21.248)\n",
       " 22                          Gender                            \n",
       " 23                    genderFemale      2.542*** (1.161~3.924)\n",
       " 24                        Activity                            \n",
       " 25                       sedentary    -11.576* (-21.16~-1.991)\n",
       " 26                 activitycCounts       -0.002 (-0.008~0.004),\n",
       "                          Variables 0506_di_lm_model_coef.cs\n",
       " 0                        Intercept                         \n",
       " 1                      (Intercept)  53.3*** (29.018~77.582)\n",
       " 2                              Age                         \n",
       " 3                              age    0.117*** (0.09~0.144)\n",
       " 4                          Diabete                         \n",
       " 5                  diabPre-diabete  -1.209 (-25.094~22.676)\n",
       " 6                      diabdiabete  -0.587 (-24.688~23.514)\n",
       " 7                      diabUnknown    0.092 (-23.75~23.934)\n",
       " 8                              BMI                         \n",
       " 9                              bmi   0.313*** (0.239~0.387)\n",
       " 10                           Smoke                         \n",
       " 11                      smokeSmoke    2.46*** (0.999~3.921)\n",
       " 12                    smokeUnknown      0.488 (-0.644~1.62)\n",
       " 13                         Country                         \n",
       " 14            countryUnited States      0.32 (-1.089~1.728)\n",
       " 15          raceNon-Hispanic Black     1.747 (-1.203~4.698)\n",
       " 16                            Race                         \n",
       " 17                    raceHispanic    -0.048 (-2.942~2.845)\n",
       " 18                       raceOther    -1.557 (-4.354~1.241)\n",
       " 19                       Education                         \n",
       " 20  educationmore than high school      1.268** (0.3~2.236)\n",
       " 21        educationRefused/Missing    -14.9 (-38.802~9.002)\n",
       " 22                          Gender                         \n",
       " 23                    genderFemale   1.867*** (0.902~2.831)\n",
       " 24                        Activity                         \n",
       " 25                       sedentary     -2.85 (-9.543~3.843)\n",
       " 26                 activitycCounts       0.004* (0.0~0.009)]"
      ]
     },
     "execution_count": 85,
     "metadata": {},
     "output_type": "execute_result"
    }
   ],
   "source": [
    "forms"
   ]
  },
  {
   "cell_type": "code",
   "execution_count": null,
   "metadata": {
    "collapsed": true
   },
   "outputs": [],
   "source": []
  },
  {
   "cell_type": "code",
   "execution_count": 86,
   "metadata": {
    "collapsed": false
   },
   "outputs": [],
   "source": [
    "merge_form = list()\n",
    "\n",
    "variables = forms[0]['Variables']\n",
    "merge_form.append(variables)\n",
    "\n",
    "for form in forms:\n",
    "    data_form = form[form.columns[-1]]\n",
    "    merge_form.append(data_form)"
   ]
  },
  {
   "cell_type": "code",
   "execution_count": 87,
   "metadata": {
    "collapsed": false
   },
   "outputs": [],
   "source": [
    "merge_form = pd.concat(merge_form, axis=1)"
   ]
  },
  {
   "cell_type": "code",
   "execution_count": 88,
   "metadata": {
    "collapsed": false
   },
   "outputs": [
    {
     "data": {
      "text/plain": [
       "Index(['Variables', '0506_sy_lm_model_coef.cs', '0506_di_lm_model_coef.cs'], dtype='object')"
      ]
     },
     "execution_count": 88,
     "metadata": {},
     "output_type": "execute_result"
    }
   ],
   "source": [
    "merge_form.columns"
   ]
  },
  {
   "cell_type": "code",
   "execution_count": 68,
   "metadata": {
    "collapsed": false
   },
   "outputs": [],
   "source": [
    "merge_form = merge_form[[\"Variables\", \"normal\", \"elevated\", \"stage_1\", \"stage_2\", \"stage_3\"]]"
   ]
  },
  {
   "cell_type": "code",
   "execution_count": 89,
   "metadata": {
    "collapsed": false
   },
   "outputs": [
    {
     "data": {
      "text/html": [
       "<div>\n",
       "<style>\n",
       "    .dataframe thead tr:only-child th {\n",
       "        text-align: right;\n",
       "    }\n",
       "\n",
       "    .dataframe thead th {\n",
       "        text-align: left;\n",
       "    }\n",
       "\n",
       "    .dataframe tbody tr th {\n",
       "        vertical-align: top;\n",
       "    }\n",
       "</style>\n",
       "<table border=\"1\" class=\"dataframe\">\n",
       "  <thead>\n",
       "    <tr style=\"text-align: right;\">\n",
       "      <th></th>\n",
       "      <th>Variables</th>\n",
       "      <th>0506_sy_lm_model_coef.cs</th>\n",
       "      <th>0506_di_lm_model_coef.cs</th>\n",
       "    </tr>\n",
       "  </thead>\n",
       "  <tbody>\n",
       "    <tr>\n",
       "      <th>0</th>\n",
       "      <td>Intercept</td>\n",
       "      <td></td>\n",
       "      <td></td>\n",
       "    </tr>\n",
       "    <tr>\n",
       "      <th>1</th>\n",
       "      <td>(Intercept)</td>\n",
       "      <td>84.737*** (49.967~119.508)</td>\n",
       "      <td>53.3*** (29.018~77.582)</td>\n",
       "    </tr>\n",
       "    <tr>\n",
       "      <th>2</th>\n",
       "      <td>Age</td>\n",
       "      <td></td>\n",
       "      <td></td>\n",
       "    </tr>\n",
       "    <tr>\n",
       "      <th>3</th>\n",
       "      <td>age</td>\n",
       "      <td>0.562*** (0.523~0.602)</td>\n",
       "      <td>0.117*** (0.09~0.144)</td>\n",
       "    </tr>\n",
       "    <tr>\n",
       "      <th>4</th>\n",
       "      <td>Diabete</td>\n",
       "      <td></td>\n",
       "      <td></td>\n",
       "    </tr>\n",
       "    <tr>\n",
       "      <th>5</th>\n",
       "      <td>diabPre-diabete</td>\n",
       "      <td>6.455 (-27.747~40.658)</td>\n",
       "      <td>-1.209 (-25.094~22.676)</td>\n",
       "    </tr>\n",
       "    <tr>\n",
       "      <th>6</th>\n",
       "      <td>diabdiabete</td>\n",
       "      <td>4.038 (-30.473~38.549)</td>\n",
       "      <td>-0.587 (-24.688~23.514)</td>\n",
       "    </tr>\n",
       "    <tr>\n",
       "      <th>7</th>\n",
       "      <td>diabUnknown</td>\n",
       "      <td>2.461 (-31.678~36.601)</td>\n",
       "      <td>0.092 (-23.75~23.934)</td>\n",
       "    </tr>\n",
       "    <tr>\n",
       "      <th>8</th>\n",
       "      <td>BMI</td>\n",
       "      <td></td>\n",
       "      <td></td>\n",
       "    </tr>\n",
       "    <tr>\n",
       "      <th>9</th>\n",
       "      <td>bmi</td>\n",
       "      <td>0.405*** (0.3~0.511)</td>\n",
       "      <td>0.313*** (0.239~0.387)</td>\n",
       "    </tr>\n",
       "    <tr>\n",
       "      <th>10</th>\n",
       "      <td>Smoke</td>\n",
       "      <td></td>\n",
       "      <td></td>\n",
       "    </tr>\n",
       "    <tr>\n",
       "      <th>11</th>\n",
       "      <td>smokeSmoke</td>\n",
       "      <td>1.829 (-0.264~3.921)</td>\n",
       "      <td>2.46*** (0.999~3.921)</td>\n",
       "    </tr>\n",
       "    <tr>\n",
       "      <th>12</th>\n",
       "      <td>smokeUnknown</td>\n",
       "      <td>2.701*** (1.08~4.322)</td>\n",
       "      <td>0.488 (-0.644~1.62)</td>\n",
       "    </tr>\n",
       "    <tr>\n",
       "      <th>13</th>\n",
       "      <td>Country</td>\n",
       "      <td></td>\n",
       "      <td></td>\n",
       "    </tr>\n",
       "    <tr>\n",
       "      <th>14</th>\n",
       "      <td>countryUnited States</td>\n",
       "      <td>1.716 (-0.301~3.733)</td>\n",
       "      <td>0.32 (-1.089~1.728)</td>\n",
       "    </tr>\n",
       "    <tr>\n",
       "      <th>15</th>\n",
       "      <td>raceNon-Hispanic Black</td>\n",
       "      <td>5.487** (1.263~9.712)</td>\n",
       "      <td>1.747 (-1.203~4.698)</td>\n",
       "    </tr>\n",
       "    <tr>\n",
       "      <th>16</th>\n",
       "      <td>Race</td>\n",
       "      <td></td>\n",
       "      <td></td>\n",
       "    </tr>\n",
       "    <tr>\n",
       "      <th>17</th>\n",
       "      <td>raceHispanic</td>\n",
       "      <td>0.375 (-3.769~4.518)</td>\n",
       "      <td>-0.048 (-2.942~2.845)</td>\n",
       "    </tr>\n",
       "    <tr>\n",
       "      <th>18</th>\n",
       "      <td>raceOther</td>\n",
       "      <td>-0.697 (-4.703~3.309)</td>\n",
       "      <td>-1.557 (-4.354~1.241)</td>\n",
       "    </tr>\n",
       "    <tr>\n",
       "      <th>19</th>\n",
       "      <td>Education</td>\n",
       "      <td></td>\n",
       "      <td></td>\n",
       "    </tr>\n",
       "    <tr>\n",
       "      <th>20</th>\n",
       "      <td>educationmore than high school</td>\n",
       "      <td>-2.208** (-3.594~-0.821)</td>\n",
       "      <td>1.268** (0.3~2.236)</td>\n",
       "    </tr>\n",
       "    <tr>\n",
       "      <th>21</th>\n",
       "      <td>educationRefused/Missing</td>\n",
       "      <td>-12.979 (-47.206~21.248)</td>\n",
       "      <td>-14.9 (-38.802~9.002)</td>\n",
       "    </tr>\n",
       "    <tr>\n",
       "      <th>22</th>\n",
       "      <td>Gender</td>\n",
       "      <td></td>\n",
       "      <td></td>\n",
       "    </tr>\n",
       "    <tr>\n",
       "      <th>23</th>\n",
       "      <td>genderFemale</td>\n",
       "      <td>2.542*** (1.161~3.924)</td>\n",
       "      <td>1.867*** (0.902~2.831)</td>\n",
       "    </tr>\n",
       "    <tr>\n",
       "      <th>24</th>\n",
       "      <td>Activity</td>\n",
       "      <td></td>\n",
       "      <td></td>\n",
       "    </tr>\n",
       "    <tr>\n",
       "      <th>25</th>\n",
       "      <td>sedentary</td>\n",
       "      <td>-11.576* (-21.16~-1.991)</td>\n",
       "      <td>-2.85 (-9.543~3.843)</td>\n",
       "    </tr>\n",
       "    <tr>\n",
       "      <th>26</th>\n",
       "      <td>activitycCounts</td>\n",
       "      <td>-0.002 (-0.008~0.004)</td>\n",
       "      <td>0.004* (0.0~0.009)</td>\n",
       "    </tr>\n",
       "  </tbody>\n",
       "</table>\n",
       "</div>"
      ],
      "text/plain": [
       "                         Variables    0506_sy_lm_model_coef.cs  \\\n",
       "0                        Intercept                               \n",
       "1                      (Intercept)  84.737*** (49.967~119.508)   \n",
       "2                              Age                               \n",
       "3                              age      0.562*** (0.523~0.602)   \n",
       "4                          Diabete                               \n",
       "5                  diabPre-diabete      6.455 (-27.747~40.658)   \n",
       "6                      diabdiabete      4.038 (-30.473~38.549)   \n",
       "7                      diabUnknown      2.461 (-31.678~36.601)   \n",
       "8                              BMI                               \n",
       "9                              bmi        0.405*** (0.3~0.511)   \n",
       "10                           Smoke                               \n",
       "11                      smokeSmoke        1.829 (-0.264~3.921)   \n",
       "12                    smokeUnknown       2.701*** (1.08~4.322)   \n",
       "13                         Country                               \n",
       "14            countryUnited States        1.716 (-0.301~3.733)   \n",
       "15          raceNon-Hispanic Black       5.487** (1.263~9.712)   \n",
       "16                            Race                               \n",
       "17                    raceHispanic        0.375 (-3.769~4.518)   \n",
       "18                       raceOther       -0.697 (-4.703~3.309)   \n",
       "19                       Education                               \n",
       "20  educationmore than high school    -2.208** (-3.594~-0.821)   \n",
       "21        educationRefused/Missing    -12.979 (-47.206~21.248)   \n",
       "22                          Gender                               \n",
       "23                    genderFemale      2.542*** (1.161~3.924)   \n",
       "24                        Activity                               \n",
       "25                       sedentary    -11.576* (-21.16~-1.991)   \n",
       "26                 activitycCounts       -0.002 (-0.008~0.004)   \n",
       "\n",
       "   0506_di_lm_model_coef.cs  \n",
       "0                            \n",
       "1   53.3*** (29.018~77.582)  \n",
       "2                            \n",
       "3     0.117*** (0.09~0.144)  \n",
       "4                            \n",
       "5   -1.209 (-25.094~22.676)  \n",
       "6   -0.587 (-24.688~23.514)  \n",
       "7     0.092 (-23.75~23.934)  \n",
       "8                            \n",
       "9    0.313*** (0.239~0.387)  \n",
       "10                           \n",
       "11    2.46*** (0.999~3.921)  \n",
       "12      0.488 (-0.644~1.62)  \n",
       "13                           \n",
       "14      0.32 (-1.089~1.728)  \n",
       "15     1.747 (-1.203~4.698)  \n",
       "16                           \n",
       "17    -0.048 (-2.942~2.845)  \n",
       "18    -1.557 (-4.354~1.241)  \n",
       "19                           \n",
       "20      1.268** (0.3~2.236)  \n",
       "21    -14.9 (-38.802~9.002)  \n",
       "22                           \n",
       "23   1.867*** (0.902~2.831)  \n",
       "24                           \n",
       "25     -2.85 (-9.543~3.843)  \n",
       "26       0.004* (0.0~0.009)  "
      ]
     },
     "execution_count": 89,
     "metadata": {},
     "output_type": "execute_result"
    }
   ],
   "source": [
    "merge_form"
   ]
  },
  {
   "cell_type": "code",
   "execution_count": null,
   "metadata": {
    "collapsed": true
   },
   "outputs": [],
   "source": []
  },
  {
   "cell_type": "code",
   "execution_count": 90,
   "metadata": {
    "collapsed": true
   },
   "outputs": [],
   "source": [
    "merge_form.to_csv(f\"./Result_{data_type}/merge_general_{data_type}.csv\", index=False)"
   ]
  },
  {
   "cell_type": "code",
   "execution_count": null,
   "metadata": {
    "collapsed": true
   },
   "outputs": [],
   "source": []
  }
 ],
 "metadata": {
  "kernelspec": {
   "display_name": "Python 3",
   "language": "python",
   "name": "python3"
  },
  "language_info": {
   "codemirror_mode": {
    "name": "ipython",
    "version": 3
   },
   "file_extension": ".py",
   "mimetype": "text/x-python",
   "name": "python",
   "nbconvert_exporter": "python",
   "pygments_lexer": "ipython3",
   "version": "3.6.8"
  }
 },
 "nbformat": 4,
 "nbformat_minor": 0
}
