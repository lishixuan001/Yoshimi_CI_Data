{
 "cells": [
  {
   "cell_type": "code",
   "execution_count": 60,
   "metadata": {
    "collapsed": false
   },
   "outputs": [],
   "source": [
    "import pandas as pd\n",
    "import numpy as np\n",
    "\n",
    "from os import listdir\n",
    "from os.path import join"
   ]
  },
  {
   "cell_type": "code",
   "execution_count": 61,
   "metadata": {
    "collapsed": true
   },
   "outputs": [],
   "source": [
    "data_type = \"0506\"\n",
    "base_dir = f\"./{data_type}/\""
   ]
  },
  {
   "cell_type": "code",
   "execution_count": 62,
   "metadata": {
    "collapsed": true
   },
   "outputs": [],
   "source": [
    "insertions = {\n",
    "    0: [\"Intercept\", \"\"],\n",
    "    1: [\"Age\", \"\"],\n",
    "    2: [\"Diabete\", \"\"],\n",
    "    5: [\"BMI\", \"\"],\n",
    "    6: [\"Smoke\", \"\"],\n",
    "    8: [\"Country\", \"\"],\n",
    "    10: [\"Race\", \"\"],\n",
    "    14: [\"Education\", \"\"],\n",
    "    19: [\"Gender\", \"\"],\n",
    "    21: [\"Activity\", \"\"]\n",
    "}"
   ]
  },
  {
   "cell_type": "code",
   "execution_count": 63,
   "metadata": {
    "collapsed": true
   },
   "outputs": [],
   "source": [
    "columns = [\"Variables\", \"Confidence Interval\"]"
   ]
  },
  {
   "cell_type": "code",
   "execution_count": 66,
   "metadata": {
    "collapsed": false
   },
   "outputs": [],
   "source": [
    "for file_name in listdir(base_dir):\n",
    "    assert file_name.endswith(\"csv\")\n",
    "    df = pd.read_csv(join(base_dir, file_name))\n",
    "    data = []\n",
    "    for i in range(df.shape[0]):\n",
    "        if i in insertions.keys():\n",
    "            data.append(insertions[i])\n",
    "        line = df.iloc[i]\n",
    "        name = line[\"Unnamed: 0\"]\n",
    "        estm = round(float(line[\"Estimate\"]), 3)\n",
    "        lb = round(float(line['LB']), 3)\n",
    "        ub = round(float(line['UB']), 3)\n",
    "        dataline = [name, f\"{estm} ({lb}~{ub})\",]\n",
    "        data.append(dataline)\n",
    "    form = pd.DataFrame(data, index=None, columns=columns)\n",
    "    form.to_csv(f\"./Result_{data_type}/{file_name}\", index=False)"
   ]
  },
  {
   "cell_type": "code",
   "execution_count": 65,
   "metadata": {
    "collapsed": false
   },
   "outputs": [
    {
     "data": {
      "text/html": [
       "<div>\n",
       "<style>\n",
       "    .dataframe thead tr:only-child th {\n",
       "        text-align: right;\n",
       "    }\n",
       "\n",
       "    .dataframe thead th {\n",
       "        text-align: left;\n",
       "    }\n",
       "\n",
       "    .dataframe tbody tr th {\n",
       "        vertical-align: top;\n",
       "    }\n",
       "</style>\n",
       "<table border=\"1\" class=\"dataframe\">\n",
       "  <thead>\n",
       "    <tr style=\"text-align: right;\">\n",
       "      <th></th>\n",
       "      <th>Variables</th>\n",
       "      <th>Confidence Interval</th>\n",
       "    </tr>\n",
       "  </thead>\n",
       "  <tbody>\n",
       "    <tr>\n",
       "      <th>0</th>\n",
       "      <td>Intercept</td>\n",
       "      <td></td>\n",
       "    </tr>\n",
       "    <tr>\n",
       "      <th>1</th>\n",
       "      <td>(Intercept)</td>\n",
       "      <td>-0.033 (-0.299~0.232)</td>\n",
       "    </tr>\n",
       "    <tr>\n",
       "      <th>2</th>\n",
       "      <td>Age</td>\n",
       "      <td></td>\n",
       "    </tr>\n",
       "    <tr>\n",
       "      <th>3</th>\n",
       "      <td>age</td>\n",
       "      <td>0.001 (0.001~0.001)</td>\n",
       "    </tr>\n",
       "    <tr>\n",
       "      <th>4</th>\n",
       "      <td>Diabete</td>\n",
       "      <td></td>\n",
       "    </tr>\n",
       "    <tr>\n",
       "      <th>5</th>\n",
       "      <td>diabPre-diabete</td>\n",
       "      <td>0.021 (-0.24~0.282)</td>\n",
       "    </tr>\n",
       "    <tr>\n",
       "      <th>6</th>\n",
       "      <td>diabdiabete</td>\n",
       "      <td>0.001 (-0.263~0.264)</td>\n",
       "    </tr>\n",
       "    <tr>\n",
       "      <th>7</th>\n",
       "      <td>diabUnknown</td>\n",
       "      <td>0.005 (-0.256~0.265)</td>\n",
       "    </tr>\n",
       "    <tr>\n",
       "      <th>8</th>\n",
       "      <td>BMI</td>\n",
       "      <td></td>\n",
       "    </tr>\n",
       "    <tr>\n",
       "      <th>9</th>\n",
       "      <td>bmi</td>\n",
       "      <td>-0.0 (-0.001~0.0)</td>\n",
       "    </tr>\n",
       "    <tr>\n",
       "      <th>10</th>\n",
       "      <td>Smoke</td>\n",
       "      <td></td>\n",
       "    </tr>\n",
       "    <tr>\n",
       "      <th>11</th>\n",
       "      <td>smokeSmoke</td>\n",
       "      <td>0.002 (-0.014~0.018)</td>\n",
       "    </tr>\n",
       "    <tr>\n",
       "      <th>12</th>\n",
       "      <td>smokeUnknown</td>\n",
       "      <td>0.007 (-0.005~0.019)</td>\n",
       "    </tr>\n",
       "    <tr>\n",
       "      <th>13</th>\n",
       "      <td>Country</td>\n",
       "      <td></td>\n",
       "    </tr>\n",
       "    <tr>\n",
       "      <th>14</th>\n",
       "      <td>countryMexico</td>\n",
       "      <td>0.017 (-0.014~0.048)</td>\n",
       "    </tr>\n",
       "    <tr>\n",
       "      <th>15</th>\n",
       "      <td>countryU.S.</td>\n",
       "      <td>0.014 (-0.007~0.034)</td>\n",
       "    </tr>\n",
       "    <tr>\n",
       "      <th>16</th>\n",
       "      <td>Race</td>\n",
       "      <td></td>\n",
       "    </tr>\n",
       "    <tr>\n",
       "      <th>17</th>\n",
       "      <td>raceNon-Hispanic Black</td>\n",
       "      <td>0.004 (-0.017~0.025)</td>\n",
       "    </tr>\n",
       "    <tr>\n",
       "      <th>18</th>\n",
       "      <td>raceMexican American</td>\n",
       "      <td>-0.004 (-0.023~0.016)</td>\n",
       "    </tr>\n",
       "    <tr>\n",
       "      <th>19</th>\n",
       "      <td>raceOther Hispanic</td>\n",
       "      <td>0.022 (-0.015~0.059)</td>\n",
       "    </tr>\n",
       "    <tr>\n",
       "      <th>20</th>\n",
       "      <td>raceOther Race - Including Multi-Racial</td>\n",
       "      <td>0.003 (-0.029~0.036)</td>\n",
       "    </tr>\n",
       "    <tr>\n",
       "      <th>21</th>\n",
       "      <td>Education</td>\n",
       "      <td></td>\n",
       "    </tr>\n",
       "    <tr>\n",
       "      <th>22</th>\n",
       "      <td>education2</td>\n",
       "      <td>0.007 (-0.014~0.028)</td>\n",
       "    </tr>\n",
       "    <tr>\n",
       "      <th>23</th>\n",
       "      <td>education3</td>\n",
       "      <td>-0.0 (-0.02~0.02)</td>\n",
       "    </tr>\n",
       "    <tr>\n",
       "      <th>24</th>\n",
       "      <td>education4</td>\n",
       "      <td>-0.0 (-0.02~0.02)</td>\n",
       "    </tr>\n",
       "    <tr>\n",
       "      <th>25</th>\n",
       "      <td>education5</td>\n",
       "      <td>-0.0 (-0.022~0.021)</td>\n",
       "    </tr>\n",
       "    <tr>\n",
       "      <th>26</th>\n",
       "      <td>education9</td>\n",
       "      <td>-0.04 (-0.301~0.22)</td>\n",
       "    </tr>\n",
       "    <tr>\n",
       "      <th>27</th>\n",
       "      <td>Gender</td>\n",
       "      <td></td>\n",
       "    </tr>\n",
       "    <tr>\n",
       "      <th>28</th>\n",
       "      <td>genderFemale</td>\n",
       "      <td>-0.018 (-0.028~-0.007)</td>\n",
       "    </tr>\n",
       "    <tr>\n",
       "      <th>29</th>\n",
       "      <td>sedentary</td>\n",
       "      <td>-0.021 (-0.094~0.052)</td>\n",
       "    </tr>\n",
       "    <tr>\n",
       "      <th>30</th>\n",
       "      <td>Activity</td>\n",
       "      <td></td>\n",
       "    </tr>\n",
       "    <tr>\n",
       "      <th>31</th>\n",
       "      <td>activitycCounts</td>\n",
       "      <td>-0.0 (-0.0~0.0)</td>\n",
       "    </tr>\n",
       "  </tbody>\n",
       "</table>\n",
       "</div>"
      ],
      "text/plain": [
       "                                  Variables     Confidence Interval\n",
       "0                                 Intercept                        \n",
       "1                               (Intercept)   -0.033 (-0.299~0.232)\n",
       "2                                       Age                        \n",
       "3                                       age     0.001 (0.001~0.001)\n",
       "4                                   Diabete                        \n",
       "5                           diabPre-diabete     0.021 (-0.24~0.282)\n",
       "6                               diabdiabete    0.001 (-0.263~0.264)\n",
       "7                               diabUnknown    0.005 (-0.256~0.265)\n",
       "8                                       BMI                        \n",
       "9                                       bmi       -0.0 (-0.001~0.0)\n",
       "10                                    Smoke                        \n",
       "11                               smokeSmoke    0.002 (-0.014~0.018)\n",
       "12                             smokeUnknown    0.007 (-0.005~0.019)\n",
       "13                                  Country                        \n",
       "14                            countryMexico    0.017 (-0.014~0.048)\n",
       "15                              countryU.S.    0.014 (-0.007~0.034)\n",
       "16                                     Race                        \n",
       "17                   raceNon-Hispanic Black    0.004 (-0.017~0.025)\n",
       "18                     raceMexican American   -0.004 (-0.023~0.016)\n",
       "19                       raceOther Hispanic    0.022 (-0.015~0.059)\n",
       "20  raceOther Race - Including Multi-Racial    0.003 (-0.029~0.036)\n",
       "21                                Education                        \n",
       "22                               education2    0.007 (-0.014~0.028)\n",
       "23                               education3       -0.0 (-0.02~0.02)\n",
       "24                               education4       -0.0 (-0.02~0.02)\n",
       "25                               education5     -0.0 (-0.022~0.021)\n",
       "26                               education9     -0.04 (-0.301~0.22)\n",
       "27                                   Gender                        \n",
       "28                             genderFemale  -0.018 (-0.028~-0.007)\n",
       "29                                sedentary   -0.021 (-0.094~0.052)\n",
       "30                                 Activity                        \n",
       "31                          activitycCounts         -0.0 (-0.0~0.0)"
      ]
     },
     "execution_count": 65,
     "metadata": {},
     "output_type": "execute_result"
    }
   ],
   "source": [
    "form"
   ]
  },
  {
   "cell_type": "code",
   "execution_count": 16,
   "metadata": {
    "collapsed": false
   },
   "outputs": [
    {
     "data": {
      "text/plain": [
       "Index(['Unnamed: 0', 'Estimate', 'Std. Error', 't value', 'Pr(>|t|)', 'LB',\n",
       "       'UB'],\n",
       "      dtype='object')"
      ]
     },
     "execution_count": 16,
     "metadata": {},
     "output_type": "execute_result"
    }
   ],
   "source": [
    "df.columns"
   ]
  },
  {
   "cell_type": "code",
   "execution_count": null,
   "metadata": {
    "collapsed": true
   },
   "outputs": [],
   "source": []
  }
 ],
 "metadata": {
  "kernelspec": {
   "display_name": "Python 3",
   "language": "python",
   "name": "python3"
  },
  "language_info": {
   "codemirror_mode": {
    "name": "ipython",
    "version": 3
   },
   "file_extension": ".py",
   "mimetype": "text/x-python",
   "name": "python",
   "nbconvert_exporter": "python",
   "pygments_lexer": "ipython3",
   "version": "3.6.8"
  }
 },
 "nbformat": 4,
 "nbformat_minor": 0
}
